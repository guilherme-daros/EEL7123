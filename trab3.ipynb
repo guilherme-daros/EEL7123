{
  "cells": [
    {
      "cell_type": "markdown",
      "metadata": {
        "id": "view-in-github",
        "colab_type": "text"
      },
      "source": [
        "<a href=\"https://colab.research.google.com/github/guilherme-daros/EEL7123/blob/master/trab3.ipynb\" target=\"_parent\"><img src=\"https://colab.research.google.com/assets/colab-badge.svg\" alt=\"Open In Colab\"/></a>"
      ]
    },
    {
      "cell_type": "markdown",
      "metadata": {
        "id": "PCeRhSZHj-hz"
      },
      "source": [
        "# Exemplo de carregamento de imagens\n"
      ]
    },
    {
      "cell_type": "code",
      "execution_count": null,
      "metadata": {
        "id": "gi3sPRzsUIgr"
      },
      "outputs": [],
      "source": [
        "import os\n",
        "\n",
        "import tensorflow as tf\n",
        "import pandas as pd\n",
        "import numpy as np\n",
        "\n",
        "import matplotlib.pyplot as plt\n",
        "\n",
        "from sklearn.model_selection import train_test_split\n"
      ]
    },
    {
      "cell_type": "code",
      "execution_count": null,
      "metadata": {
        "colab": {
          "base_uri": "https://localhost:8080/"
        },
        "id": "UHXXAVfaXkZ4",
        "outputId": "f20c1f48-50da-42ab-a39f-1cd5e978c65f"
      },
      "outputs": [
        {
          "name": "stdout",
          "output_type": "stream",
          "text": [
            "Drive already mounted at /content/drive; to attempt to forcibly remount, call drive.mount(\"/content/drive\", force_remount=True).\n"
          ]
        }
      ],
      "source": [
        "from google.colab import drive\n",
        "drive.mount('/content/drive')"
      ]
    },
    {
      "cell_type": "code",
      "execution_count": null,
      "metadata": {
        "colab": {
          "base_uri": "https://localhost:8080/",
          "height": 424
        },
        "id": "DYSjk2GPdBUU",
        "outputId": "57ab6ed6-9052-40e3-c734-18149012add0"
      },
      "outputs": [
        {
          "data": {
            "text/html": [
              "\n",
              "  <div id=\"df-2aa6ad9f-19f5-4aac-b451-a41cf912181e\">\n",
              "    <div class=\"colab-df-container\">\n",
              "      <div>\n",
              "<style scoped>\n",
              "    .dataframe tbody tr th:only-of-type {\n",
              "        vertical-align: middle;\n",
              "    }\n",
              "\n",
              "    .dataframe tbody tr th {\n",
              "        vertical-align: top;\n",
              "    }\n",
              "\n",
              "    .dataframe thead th {\n",
              "        text-align: right;\n",
              "    }\n",
              "</style>\n",
              "<table border=\"1\" class=\"dataframe\">\n",
              "  <thead>\n",
              "    <tr style=\"text-align: right;\">\n",
              "      <th></th>\n",
              "      <th>path</th>\n",
              "      <th>label</th>\n",
              "    </tr>\n",
              "  </thead>\n",
              "  <tbody>\n",
              "    <tr>\n",
              "      <th>0</th>\n",
              "      <td>drive/MyDrive/Dataset/Garbage classification/c...</td>\n",
              "      <td>cardboard</td>\n",
              "    </tr>\n",
              "    <tr>\n",
              "      <th>1</th>\n",
              "      <td>drive/MyDrive/Dataset/Garbage classification/c...</td>\n",
              "      <td>cardboard</td>\n",
              "    </tr>\n",
              "    <tr>\n",
              "      <th>2</th>\n",
              "      <td>drive/MyDrive/Dataset/Garbage classification/c...</td>\n",
              "      <td>cardboard</td>\n",
              "    </tr>\n",
              "    <tr>\n",
              "      <th>3</th>\n",
              "      <td>drive/MyDrive/Dataset/Garbage classification/c...</td>\n",
              "      <td>cardboard</td>\n",
              "    </tr>\n",
              "    <tr>\n",
              "      <th>4</th>\n",
              "      <td>drive/MyDrive/Dataset/Garbage classification/c...</td>\n",
              "      <td>cardboard</td>\n",
              "    </tr>\n",
              "    <tr>\n",
              "      <th>...</th>\n",
              "      <td>...</td>\n",
              "      <td>...</td>\n",
              "    </tr>\n",
              "    <tr>\n",
              "      <th>2522</th>\n",
              "      <td>drive/MyDrive/Dataset/Garbage classification/t...</td>\n",
              "      <td>trash</td>\n",
              "    </tr>\n",
              "    <tr>\n",
              "      <th>2523</th>\n",
              "      <td>drive/MyDrive/Dataset/Garbage classification/t...</td>\n",
              "      <td>trash</td>\n",
              "    </tr>\n",
              "    <tr>\n",
              "      <th>2524</th>\n",
              "      <td>drive/MyDrive/Dataset/Garbage classification/t...</td>\n",
              "      <td>trash</td>\n",
              "    </tr>\n",
              "    <tr>\n",
              "      <th>2525</th>\n",
              "      <td>drive/MyDrive/Dataset/Garbage classification/t...</td>\n",
              "      <td>trash</td>\n",
              "    </tr>\n",
              "    <tr>\n",
              "      <th>2526</th>\n",
              "      <td>drive/MyDrive/Dataset/Garbage classification/t...</td>\n",
              "      <td>trash</td>\n",
              "    </tr>\n",
              "  </tbody>\n",
              "</table>\n",
              "<p>2527 rows × 2 columns</p>\n",
              "</div>\n",
              "      <button class=\"colab-df-convert\" onclick=\"convertToInteractive('df-2aa6ad9f-19f5-4aac-b451-a41cf912181e')\"\n",
              "              title=\"Convert this dataframe to an interactive table.\"\n",
              "              style=\"display:none;\">\n",
              "        \n",
              "  <svg xmlns=\"http://www.w3.org/2000/svg\" height=\"24px\"viewBox=\"0 0 24 24\"\n",
              "       width=\"24px\">\n",
              "    <path d=\"M0 0h24v24H0V0z\" fill=\"none\"/>\n",
              "    <path d=\"M18.56 5.44l.94 2.06.94-2.06 2.06-.94-2.06-.94-.94-2.06-.94 2.06-2.06.94zm-11 1L8.5 8.5l.94-2.06 2.06-.94-2.06-.94L8.5 2.5l-.94 2.06-2.06.94zm10 10l.94 2.06.94-2.06 2.06-.94-2.06-.94-.94-2.06-.94 2.06-2.06.94z\"/><path d=\"M17.41 7.96l-1.37-1.37c-.4-.4-.92-.59-1.43-.59-.52 0-1.04.2-1.43.59L10.3 9.45l-7.72 7.72c-.78.78-.78 2.05 0 2.83L4 21.41c.39.39.9.59 1.41.59.51 0 1.02-.2 1.41-.59l7.78-7.78 2.81-2.81c.8-.78.8-2.07 0-2.86zM5.41 20L4 18.59l7.72-7.72 1.47 1.35L5.41 20z\"/>\n",
              "  </svg>\n",
              "      </button>\n",
              "      \n",
              "  <style>\n",
              "    .colab-df-container {\n",
              "      display:flex;\n",
              "      flex-wrap:wrap;\n",
              "      gap: 12px;\n",
              "    }\n",
              "\n",
              "    .colab-df-convert {\n",
              "      background-color: #E8F0FE;\n",
              "      border: none;\n",
              "      border-radius: 50%;\n",
              "      cursor: pointer;\n",
              "      display: none;\n",
              "      fill: #1967D2;\n",
              "      height: 32px;\n",
              "      padding: 0 0 0 0;\n",
              "      width: 32px;\n",
              "    }\n",
              "\n",
              "    .colab-df-convert:hover {\n",
              "      background-color: #E2EBFA;\n",
              "      box-shadow: 0px 1px 2px rgba(60, 64, 67, 0.3), 0px 1px 3px 1px rgba(60, 64, 67, 0.15);\n",
              "      fill: #174EA6;\n",
              "    }\n",
              "\n",
              "    [theme=dark] .colab-df-convert {\n",
              "      background-color: #3B4455;\n",
              "      fill: #D2E3FC;\n",
              "    }\n",
              "\n",
              "    [theme=dark] .colab-df-convert:hover {\n",
              "      background-color: #434B5C;\n",
              "      box-shadow: 0px 1px 3px 1px rgba(0, 0, 0, 0.15);\n",
              "      filter: drop-shadow(0px 1px 2px rgba(0, 0, 0, 0.3));\n",
              "      fill: #FFFFFF;\n",
              "    }\n",
              "  </style>\n",
              "\n",
              "      <script>\n",
              "        const buttonEl =\n",
              "          document.querySelector('#df-2aa6ad9f-19f5-4aac-b451-a41cf912181e button.colab-df-convert');\n",
              "        buttonEl.style.display =\n",
              "          google.colab.kernel.accessAllowed ? 'block' : 'none';\n",
              "\n",
              "        async function convertToInteractive(key) {\n",
              "          const element = document.querySelector('#df-2aa6ad9f-19f5-4aac-b451-a41cf912181e');\n",
              "          const dataTable =\n",
              "            await google.colab.kernel.invokeFunction('convertToInteractive',\n",
              "                                                     [key], {});\n",
              "          if (!dataTable) return;\n",
              "\n",
              "          const docLinkHtml = 'Like what you see? Visit the ' +\n",
              "            '<a target=\"_blank\" href=https://colab.research.google.com/notebooks/data_table.ipynb>data table notebook</a>'\n",
              "            + ' to learn more about interactive tables.';\n",
              "          element.innerHTML = '';\n",
              "          dataTable['output_type'] = 'display_data';\n",
              "          await google.colab.output.renderOutput(dataTable, element);\n",
              "          const docLink = document.createElement('div');\n",
              "          docLink.innerHTML = docLinkHtml;\n",
              "          element.appendChild(docLink);\n",
              "        }\n",
              "      </script>\n",
              "    </div>\n",
              "  </div>\n",
              "  "
            ],
            "text/plain": [
              "                                                   path      label\n",
              "0     drive/MyDrive/Dataset/Garbage classification/c...  cardboard\n",
              "1     drive/MyDrive/Dataset/Garbage classification/c...  cardboard\n",
              "2     drive/MyDrive/Dataset/Garbage classification/c...  cardboard\n",
              "3     drive/MyDrive/Dataset/Garbage classification/c...  cardboard\n",
              "4     drive/MyDrive/Dataset/Garbage classification/c...  cardboard\n",
              "...                                                 ...        ...\n",
              "2522  drive/MyDrive/Dataset/Garbage classification/t...      trash\n",
              "2523  drive/MyDrive/Dataset/Garbage classification/t...      trash\n",
              "2524  drive/MyDrive/Dataset/Garbage classification/t...      trash\n",
              "2525  drive/MyDrive/Dataset/Garbage classification/t...      trash\n",
              "2526  drive/MyDrive/Dataset/Garbage classification/t...      trash\n",
              "\n",
              "[2527 rows x 2 columns]"
            ]
          },
          "execution_count": 3,
          "metadata": {},
          "output_type": "execute_result"
        }
      ],
      "source": [
        "# Cria DataFrame com todos os caminhos das imagens e respectivos rótulos\n",
        "base_path = 'drive/MyDrive/Dataset'\n",
        "df_all = pd.DataFrame()\n",
        "for dirname, _, filenames in os.walk(base_path):\n",
        "    paths = [dirname + '/' + filename for filename in filenames if '.jpg' in filename]\n",
        "    folder_name = os.path.split(dirname)[-1]\n",
        "    df_all = pd.concat([df_all, pd.DataFrame({'path': paths, 'label': folder_name})], ignore_index=True)\n",
        "\n",
        "df_all"
      ]
    },
    {
      "cell_type": "code",
      "execution_count": null,
      "metadata": {
        "colab": {
          "base_uri": "https://localhost:8080/"
        },
        "id": "6zdz9vqfknEc",
        "outputId": "1c570d53-eb6c-43a9-b086-f69aad2aa417"
      },
      "outputs": [
        {
          "data": {
            "text/plain": [
              "cardboard    403\n",
              "glass        501\n",
              "metal        410\n",
              "paper        594\n",
              "plastic      482\n",
              "trash        137\n",
              "Name: label, dtype: int64"
            ]
          },
          "execution_count": 4,
          "metadata": {},
          "output_type": "execute_result"
        }
      ],
      "source": [
        "df_all['label'].value_counts().sort_index()"
      ]
    },
    {
      "cell_type": "code",
      "execution_count": null,
      "metadata": {
        "id": "FQZLudaslAzS"
      },
      "outputs": [],
      "source": [
        "classes = list(df_all['label'].unique())\n",
        "n_classes = len(classes)"
      ]
    },
    {
      "cell_type": "code",
      "execution_count": null,
      "metadata": {
        "colab": {
          "base_uri": "https://localhost:8080/"
        },
        "id": "wShqRVa_j-i3",
        "outputId": "86278002-da77-4df2-972a-97be3ff5da96"
      },
      "outputs": [
        {
          "data": {
            "text/plain": [
              "cardboard    125\n",
              "glass        125\n",
              "metal        125\n",
              "paper        125\n",
              "plastic      125\n",
              "trash        125\n",
              "Name: label, dtype: int64"
            ]
          },
          "execution_count": 6,
          "metadata": {},
          "output_type": "execute_result"
        }
      ],
      "source": [
        "# Reduz o conjunto para 125 imagens por classe\n",
        "\n",
        "df = df_all.iloc[:0]\n",
        "for t in classes:\n",
        "    subset = df_all[df_all['label'] == t]\n",
        "    subset = subset.sample(125, random_state=0)\n",
        "    df = pd.concat([df, subset], ignore_index=True)\n",
        "\n",
        "df['label'].value_counts().sort_index()"
      ]
    },
    {
      "cell_type": "code",
      "execution_count": null,
      "metadata": {
        "id": "YDVA_TzGmYPb"
      },
      "outputs": [],
      "source": [
        "# Separa entre treinamento (completo e reduzido), validação e teste, sempre com número uniforme de imagens por classe\n",
        "df_train, df_test = train_test_split(df, test_size=25*n_classes, stratify=df['label'], random_state=42)\n",
        "df_train, df_val  = train_test_split(df_train, test_size=25*n_classes, stratify=df_train['label'], random_state=42)\n",
        "df_train_small, _ = train_test_split(df_train, train_size=25*n_classes, stratify=df_train['label'], random_state=42)"
      ]
    },
    {
      "cell_type": "code",
      "execution_count": null,
      "metadata": {
        "id": "-gU9wWc6o7oB"
      },
      "outputs": [],
      "source": [
        "# Função para preparar o dataset\n",
        "try:\n",
        "    AUTOTUNE = tf.data.AUTOTUNE     \n",
        "except:\n",
        "    AUTOTUNE = tf.data.experimental.AUTOTUNE \n",
        "\n",
        "def create_dataset(df, img_size, batch_size):\n",
        "  paths = df['path']\n",
        "  labels = df['label'].map(classes.index) # ordinal encoder\n",
        "  ds = tf.data.Dataset.from_tensor_slices((paths, labels))\n",
        "  ds = ds.map(lambda x, y: (tf.io.read_file(x), y))\n",
        "  ds = ds.map(lambda x, y: (tf.io.decode_jpeg(x, channels=3), y))\n",
        "  ds = ds.map(lambda x, y: (tf.image.resize(x, img_size), y))\n",
        "  ds = ds.cache().batch(batch_size).prefetch(AUTOTUNE)\n",
        "  return ds"
      ]
    },
    {
      "cell_type": "code",
      "execution_count": null,
      "metadata": {
        "colab": {
          "base_uri": "https://localhost:8080/"
        },
        "id": "mUA8AKy9jCsf",
        "outputId": "d25001ec-bec9-45cf-a308-f327351ddedc"
      },
      "outputs": [
        {
          "name": "stdout",
          "output_type": "stream",
          "text": [
            "------------------------------\n",
            "datasets division\n",
            "------------------------------\n",
            "# train (small) = 150\n",
            "# train (full)  = 450\n",
            "# val           = 150\n",
            "# test          = 150\n"
          ]
        }
      ],
      "source": [
        "# Hiperparâmetros configuráveis\n",
        "\n",
        "img_size = (299, 299)  \n",
        "batch_size = 32\n",
        "\n",
        "ds_train_small =  create_dataset(df_train_small, img_size, batch_size)\n",
        "ds_train =        create_dataset(df_train, img_size, batch_size)\n",
        "ds_val =          create_dataset(df_val, img_size, batch_size)\n",
        "ds_test =         create_dataset(df_test, img_size, batch_size)\n",
        "\n",
        "print('------------------------------')\n",
        "print('datasets division')\n",
        "print('------------------------------')\n",
        "print(f'# train (small) = {len(df_train_small)}')\n",
        "print(f'# train (full)  = {len(df_train)}')\n",
        "print(f'# val           = {len(df_val)}')\n",
        "print(f'# test          = {len(df_test)}')"
      ]
    },
    {
      "cell_type": "markdown",
      "metadata": {
        "id": "HI3sMeveJnY1"
      },
      "source": [
        "### Questão 2\n",
        "A.i)\n"
      ]
    },
    {
      "cell_type": "code",
      "execution_count": null,
      "metadata": {
        "colab": {
          "background_save": true,
          "base_uri": "https://localhost:8080/"
        },
        "id": "FR0wGptZzJDq",
        "outputId": "10bf560c-1940-4a9d-f9ac-1ecf8acc67f4"
      },
      "outputs": [
        {
          "name": "stdout",
          "output_type": "stream",
          "text": [
            "Model: \"model_13\"\n",
            "_________________________________________________________________\n",
            " Layer (type)                Output Shape              Param #   \n",
            "=================================================================\n",
            " input_28 (InputLayer)       [(None, 299, 299, 3)]     0         \n",
            "                                                                 \n",
            " tf.math.truediv_13 (TFOpLam  (None, 299, 299, 3)      0         \n",
            " bda)                                                            \n",
            "                                                                 \n",
            " tf.math.subtract_13 (TFOpLa  (None, 299, 299, 3)      0         \n",
            " mbda)                                                           \n",
            "                                                                 \n",
            " xception (Functional)       (None, 2048)              20861480  \n",
            "                                                                 \n",
            " dropout_13 (Dropout)        (None, 2048)              0         \n",
            "                                                                 \n",
            " dense_13 (Dense)            (None, 6)                 12294     \n",
            "                                                                 \n",
            "=================================================================\n",
            "Total params: 20,873,774\n",
            "Trainable params: 20,819,246\n",
            "Non-trainable params: 54,528\n",
            "_________________________________________________________________\n",
            "Epoch 1/10\n",
            "5/5 [==============================] - 11s 1s/step - loss: 183489.6406 - accuracy: 0.1333 - val_loss: 3037.9536 - val_accuracy: 0.1667\n",
            "Epoch 2/10\n",
            "5/5 [==============================] - 6s 1s/step - loss: 9403.5518 - accuracy: 0.1533 - val_loss: 34074.5469 - val_accuracy: 0.1667\n",
            "Epoch 3/10\n",
            "5/5 [==============================] - 7s 1s/step - loss: 1482453.8750 - accuracy: 0.1733 - val_loss: 10450.0986 - val_accuracy: 0.1667\n",
            "Epoch 4/10\n",
            "5/5 [==============================] - 7s 1s/step - loss: 2048792.3750 - accuracy: 0.1467 - val_loss: 65705.2266 - val_accuracy: 0.1667\n",
            "Epoch 5/10\n",
            "5/5 [==============================] - 7s 1s/step - loss: 6828713.0000 - accuracy: 0.1267 - val_loss: 146617.6875 - val_accuracy: 0.1667\n",
            "Epoch 6/10\n",
            "5/5 [==============================] - 6s 1s/step - loss: 168543.2031 - accuracy: 0.1467 - val_loss: 91297.2344 - val_accuracy: 0.1667\n",
            "Epoch 7/10\n",
            "5/5 [==============================] - 6s 1s/step - loss: 49398.6133 - accuracy: 0.1800 - val_loss: 3856974.0000 - val_accuracy: 0.1667\n",
            "Epoch 8/10\n",
            "5/5 [==============================] - 6s 1s/step - loss: 41126016.0000 - accuracy: 0.1667 - val_loss: 2257951.5000 - val_accuracy: 0.1667\n",
            "Epoch 9/10\n",
            "5/5 [==============================] - 6s 1s/step - loss: 952726.0625 - accuracy: 0.1600 - val_loss: 12209182.0000 - val_accuracy: 0.1667\n",
            "Epoch 10/10\n",
            "5/5 [==============================] - 6s 1s/step - loss: 1904017152.0000 - accuracy: 0.1933 - val_loss: 2935806.2500 - val_accuracy: 0.1667\n"
          ]
        }
      ],
      "source": [
        "from tensorflow.keras import Model, Input\n",
        "from tensorflow.keras.layers import Dropout, Dense\n",
        "from tensorflow.keras.optimizers import Adam\n",
        "from tensorflow.keras.applications.xception import Xception, preprocess_input\n",
        "\n",
        "\n",
        "# Hiperparâmetros\n",
        "input_shape = (299,299,3)\n",
        "epochs = 10\n",
        "lr = 0.01\n",
        "\n",
        "model1 = Xception(include_top=False, input_shape=input_shape, pooling='avg')\n",
        "model1.trainable = True\n",
        "\n",
        "i = Input(shape=input_shape)\n",
        "x = i\n",
        "x = preprocess_input(x)\n",
        "x = model1(x, training=False)\n",
        "\n",
        "x = Dropout(0.2)(x)\n",
        "x = Dense(6, activation='softmax')(x)\n",
        "\n",
        "model1 = Model(i, x)\n",
        "model1.summary()\n",
        "\n",
        "model1.compile(loss='sparse_categorical_crossentropy', metrics=[\"accuracy\"], optimizer=Adam(learning_rate=lr))\n",
        "history = model1.fit(ds_train_small, validation_data=ds_val, epochs=epochs)"
      ]
    },
    {
      "cell_type": "code",
      "execution_count": null,
      "metadata": {
        "id": "wCZVNfn0wgnH"
      },
      "outputs": [],
      "source": []
    },
    {
      "cell_type": "markdown",
      "metadata": {
        "id": "4oNHtXLymAjs"
      },
      "source": [
        "A.ii)\n"
      ]
    },
    {
      "cell_type": "code",
      "execution_count": null,
      "metadata": {
        "colab": {
          "base_uri": "https://localhost:8080/"
        },
        "id": "-e4NUOULl_iq",
        "outputId": "34bc5035-b036-4ca1-fa0a-015ae82db437"
      },
      "outputs": [
        {
          "name": "stdout",
          "output_type": "stream",
          "text": [
            "Model: \"model_9\"\n",
            "_________________________________________________________________\n",
            " Layer (type)                Output Shape              Param #   \n",
            "=================================================================\n",
            " input_20 (InputLayer)       [(None, 299, 299, 3)]     0         \n",
            "                                                                 \n",
            " tf.math.truediv_9 (TFOpLamb  (None, 299, 299, 3)      0         \n",
            " da)                                                             \n",
            "                                                                 \n",
            " tf.math.subtract_9 (TFOpLam  (None, 299, 299, 3)      0         \n",
            " bda)                                                            \n",
            "                                                                 \n",
            " xception (Functional)       (None, 2048)              20861480  \n",
            "                                                                 \n",
            " dropout_9 (Dropout)         (None, 2048)              0         \n",
            "                                                                 \n",
            " dense_9 (Dense)             (None, 6)                 12294     \n",
            "                                                                 \n",
            "=================================================================\n",
            "Total params: 20,873,774\n",
            "Trainable params: 12,294\n",
            "Non-trainable params: 20,861,480\n",
            "_________________________________________________________________\n",
            "Epoch 1/10\n",
            "5/5 [==============================] - 6s 740ms/step - loss: 1.7514 - accuracy: 0.2867 - val_loss: 1.6094 - val_accuracy: 0.4000\n",
            "Epoch 2/10\n",
            "5/5 [==============================] - 3s 566ms/step - loss: 1.4490 - accuracy: 0.6000 - val_loss: 1.4416 - val_accuracy: 0.5600\n",
            "Epoch 3/10\n",
            "5/5 [==============================] - 3s 579ms/step - loss: 1.2368 - accuracy: 0.7133 - val_loss: 1.3123 - val_accuracy: 0.6333\n",
            "Epoch 4/10\n",
            "5/5 [==============================] - 3s 592ms/step - loss: 1.0595 - accuracy: 0.7733 - val_loss: 1.2080 - val_accuracy: 0.6400\n",
            "Epoch 5/10\n",
            "5/5 [==============================] - 3s 580ms/step - loss: 0.9161 - accuracy: 0.8200 - val_loss: 1.1273 - val_accuracy: 0.6400\n",
            "Epoch 6/10\n",
            "5/5 [==============================] - 3s 589ms/step - loss: 0.7966 - accuracy: 0.8400 - val_loss: 1.0665 - val_accuracy: 0.6467\n",
            "Epoch 7/10\n",
            "5/5 [==============================] - 3s 593ms/step - loss: 0.7085 - accuracy: 0.8667 - val_loss: 1.0203 - val_accuracy: 0.6667\n",
            "Epoch 8/10\n",
            "5/5 [==============================] - 3s 593ms/step - loss: 0.6293 - accuracy: 0.8800 - val_loss: 0.9838 - val_accuracy: 0.6600\n",
            "Epoch 9/10\n",
            "5/5 [==============================] - 3s 598ms/step - loss: 0.5788 - accuracy: 0.8800 - val_loss: 0.9549 - val_accuracy: 0.6600\n",
            "Epoch 10/10\n",
            "5/5 [==============================] - 3s 599ms/step - loss: 0.5150 - accuracy: 0.9067 - val_loss: 0.9323 - val_accuracy: 0.6600\n"
          ]
        }
      ],
      "source": [
        "from tensorflow.keras import Model, Input\n",
        "from tensorflow.keras.layers import Dropout, Dense\n",
        "from tensorflow.keras.optimizers import Adam\n",
        "from tensorflow.keras.applications.xception import Xception, preprocess_input\n",
        "\n",
        "\n",
        "# Hiperparâmetros\n",
        "input_shape = (299,299,3)\n",
        "epochs = 10\n",
        "lr = 0.001\n",
        "\n",
        "model1 = Xception(include_top=False, input_shape=input_shape, pooling='avg')\n",
        "model1.trainable = False\n",
        "\n",
        "i = Input(shape=input_shape)\n",
        "x = i\n",
        "x = preprocess_input(x)\n",
        "x = model1(x, training=False)\n",
        "\n",
        "x = Dropout(0.2)(x)\n",
        "x = Dense(6, activation='softmax')(x)\n",
        "\n",
        "model1 = Model(i, x)\n",
        "model1.summary()\n",
        "\n",
        "model1.compile(loss='sparse_categorical_crossentropy', metrics=[\"accuracy\"], optimizer=Adam(learning_rate=lr))\n",
        "history = model1.fit(ds_train_small, validation_data=ds_val, epochs=epochs)"
      ]
    },
    {
      "cell_type": "markdown",
      "metadata": {
        "id": "h-Qo_P3Um17a"
      },
      "source": [
        "A.iii)\n"
      ]
    },
    {
      "cell_type": "code",
      "execution_count": null,
      "metadata": {
        "colab": {
          "base_uri": "https://localhost:8080/"
        },
        "id": "E5ODIEvGm17d",
        "outputId": "e46600ec-dbb6-4eaa-b69d-251031649ac0"
      },
      "outputs": [
        {
          "name": "stdout",
          "output_type": "stream",
          "text": [
            "Epoch 1/10\n",
            "5/5 [==============================] - 12s 2s/step - loss: 0.0654 - accuracy: 1.0000 - val_loss: 0.7952 - val_accuracy: 0.7067\n",
            "Epoch 2/10\n",
            "5/5 [==============================] - 7s 1s/step - loss: 0.0359 - accuracy: 1.0000 - val_loss: 0.7852 - val_accuracy: 0.7067\n",
            "Epoch 3/10\n",
            "5/5 [==============================] - 7s 1s/step - loss: 0.0258 - accuracy: 1.0000 - val_loss: 0.7917 - val_accuracy: 0.7000\n",
            "Epoch 4/10\n",
            "5/5 [==============================] - 7s 1s/step - loss: 0.0129 - accuracy: 1.0000 - val_loss: 0.8149 - val_accuracy: 0.7000\n",
            "Epoch 5/10\n",
            "5/5 [==============================] - 7s 1s/step - loss: 0.0087 - accuracy: 1.0000 - val_loss: 0.8352 - val_accuracy: 0.7000\n",
            "Epoch 6/10\n",
            "5/5 [==============================] - 7s 1s/step - loss: 0.0052 - accuracy: 1.0000 - val_loss: 0.8457 - val_accuracy: 0.7000\n",
            "Epoch 7/10\n",
            "5/5 [==============================] - 7s 1s/step - loss: 0.0039 - accuracy: 1.0000 - val_loss: 0.8531 - val_accuracy: 0.7067\n",
            "Epoch 8/10\n",
            "5/5 [==============================] - 7s 1s/step - loss: 0.0032 - accuracy: 1.0000 - val_loss: 0.8593 - val_accuracy: 0.7067\n",
            "Epoch 9/10\n",
            "5/5 [==============================] - 7s 1s/step - loss: 0.0022 - accuracy: 1.0000 - val_loss: 0.8647 - val_accuracy: 0.7067\n",
            "Epoch 10/10\n",
            "5/5 [==============================] - 7s 1s/step - loss: 0.0015 - accuracy: 1.0000 - val_loss: 0.8719 - val_accuracy: 0.7133\n"
          ]
        }
      ],
      "source": [
        "from tensorflow.keras import Model, Input\n",
        "from tensorflow.keras.layers import Dropout, Dense\n",
        "from tensorflow.keras.optimizers import Adam\n",
        "from tensorflow.keras.applications.xception import Xception, preprocess_input\n",
        "\n",
        "\n",
        "# Hiperparâmetros\n",
        "input_shape = (299,299,3)\n",
        "epochs = 10\n",
        "lr = 1e-5\n",
        "\n",
        "model1.trainable = True\n",
        "\n",
        "model1.compile(loss='sparse_categorical_crossentropy', metrics=[\"accuracy\"], optimizer=Adam(learning_rate=lr))\n",
        "history = model1.fit(ds_train_small, validation_data=ds_val, epochs=epochs)"
      ]
    }
  ],
  "metadata": {
    "accelerator": "GPU",
    "colab": {
      "provenance": [],
      "include_colab_link": true
    },
    "gpuClass": "standard",
    "kernelspec": {
      "display_name": "Python 3 (ipykernel)",
      "language": "python",
      "name": "python3"
    },
    "language_info": {
      "codemirror_mode": {
        "name": "ipython",
        "version": 3
      },
      "file_extension": ".py",
      "mimetype": "text/x-python",
      "name": "python",
      "nbconvert_exporter": "python",
      "pygments_lexer": "ipython3",
      "version": "3.8.13"
    }
  },
  "nbformat": 4,
  "nbformat_minor": 0
}